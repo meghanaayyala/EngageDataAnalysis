{
 "cells": [
  {
   "cell_type": "code",
   "execution_count": 3,
   "id": "3931f771",
   "metadata": {},
   "outputs": [],
   "source": [
    "import pandas as pd\n",
    "import seaborn as sns\n",
    "import numpy as np\n",
    "import matplotlib.pyplot as plt\n",
    "%matplotlib inline\n",
    "\n",
    "import warnings\n",
    "warnings.filterwarnings('ignore')"
   ]
  },
  {
   "cell_type": "code",
   "execution_count": 4,
   "id": "20d4ecf5",
   "metadata": {},
   "outputs": [],
   "source": [
    "df=pd.read_csv(\"mlcar.csv\")"
   ]
  },
  {
   "cell_type": "code",
   "execution_count": 5,
   "id": "ad10ee54",
   "metadata": {},
   "outputs": [
    {
     "data": {
      "text/html": [
       "<div>\n",
       "<style scoped>\n",
       "    .dataframe tbody tr th:only-of-type {\n",
       "        vertical-align: middle;\n",
       "    }\n",
       "\n",
       "    .dataframe tbody tr th {\n",
       "        vertical-align: top;\n",
       "    }\n",
       "\n",
       "    .dataframe thead th {\n",
       "        text-align: right;\n",
       "    }\n",
       "</style>\n",
       "<table border=\"1\" class=\"dataframe\">\n",
       "  <thead>\n",
       "    <tr style=\"text-align: right;\">\n",
       "      <th></th>\n",
       "      <th>cylinders</th>\n",
       "      <th>displacement</th>\n",
       "      <th>horsepower</th>\n",
       "      <th>weight</th>\n",
       "      <th>mpg</th>\n",
       "    </tr>\n",
       "  </thead>\n",
       "  <tbody>\n",
       "    <tr>\n",
       "      <th>0</th>\n",
       "      <td>8</td>\n",
       "      <td>307</td>\n",
       "      <td>130</td>\n",
       "      <td>3504</td>\n",
       "      <td>18</td>\n",
       "    </tr>\n",
       "    <tr>\n",
       "      <th>1</th>\n",
       "      <td>8</td>\n",
       "      <td>350</td>\n",
       "      <td>165</td>\n",
       "      <td>3693</td>\n",
       "      <td>15</td>\n",
       "    </tr>\n",
       "    <tr>\n",
       "      <th>2</th>\n",
       "      <td>8</td>\n",
       "      <td>318</td>\n",
       "      <td>150</td>\n",
       "      <td>3436</td>\n",
       "      <td>18</td>\n",
       "    </tr>\n",
       "    <tr>\n",
       "      <th>3</th>\n",
       "      <td>8</td>\n",
       "      <td>304</td>\n",
       "      <td>150</td>\n",
       "      <td>3433</td>\n",
       "      <td>16</td>\n",
       "    </tr>\n",
       "    <tr>\n",
       "      <th>4</th>\n",
       "      <td>8</td>\n",
       "      <td>302</td>\n",
       "      <td>140</td>\n",
       "      <td>3449</td>\n",
       "      <td>17</td>\n",
       "    </tr>\n",
       "  </tbody>\n",
       "</table>\n",
       "</div>"
      ],
      "text/plain": [
       "   cylinders  displacement  horsepower  weight  mpg\n",
       "0          8           307         130    3504   18\n",
       "1          8           350         165    3693   15\n",
       "2          8           318         150    3436   18\n",
       "3          8           304         150    3433   16\n",
       "4          8           302         140    3449   17"
      ]
     },
     "execution_count": 5,
     "metadata": {},
     "output_type": "execute_result"
    }
   ],
   "source": [
    "df.head()"
   ]
  },
  {
   "cell_type": "code",
   "execution_count": 6,
   "id": "2f342fcc",
   "metadata": {},
   "outputs": [],
   "source": [
    "x=df.drop('mpg',axis=1)"
   ]
  },
  {
   "cell_type": "code",
   "execution_count": 7,
   "id": "13cc90fa",
   "metadata": {},
   "outputs": [],
   "source": [
    "y=df['mpg']"
   ]
  },
  {
   "cell_type": "code",
   "execution_count": 8,
   "id": "4583206d",
   "metadata": {},
   "outputs": [
    {
     "data": {
      "text/html": [
       "<div>\n",
       "<style scoped>\n",
       "    .dataframe tbody tr th:only-of-type {\n",
       "        vertical-align: middle;\n",
       "    }\n",
       "\n",
       "    .dataframe tbody tr th {\n",
       "        vertical-align: top;\n",
       "    }\n",
       "\n",
       "    .dataframe thead th {\n",
       "        text-align: right;\n",
       "    }\n",
       "</style>\n",
       "<table border=\"1\" class=\"dataframe\">\n",
       "  <thead>\n",
       "    <tr style=\"text-align: right;\">\n",
       "      <th></th>\n",
       "      <th>cylinders</th>\n",
       "      <th>displacement</th>\n",
       "      <th>horsepower</th>\n",
       "      <th>weight</th>\n",
       "      <th>mpg</th>\n",
       "    </tr>\n",
       "  </thead>\n",
       "  <tbody>\n",
       "    <tr>\n",
       "      <th>cylinders</th>\n",
       "      <td>1.000000</td>\n",
       "      <td>0.950722</td>\n",
       "      <td>0.841842</td>\n",
       "      <td>0.896017</td>\n",
       "      <td>-0.774601</td>\n",
       "    </tr>\n",
       "    <tr>\n",
       "      <th>displacement</th>\n",
       "      <td>0.950722</td>\n",
       "      <td>1.000000</td>\n",
       "      <td>0.896336</td>\n",
       "      <td>0.932822</td>\n",
       "      <td>-0.803371</td>\n",
       "    </tr>\n",
       "    <tr>\n",
       "      <th>horsepower</th>\n",
       "      <td>0.841842</td>\n",
       "      <td>0.896336</td>\n",
       "      <td>1.000000</td>\n",
       "      <td>0.863053</td>\n",
       "      <td>-0.772810</td>\n",
       "    </tr>\n",
       "    <tr>\n",
       "      <th>weight</th>\n",
       "      <td>0.896017</td>\n",
       "      <td>0.932822</td>\n",
       "      <td>0.863053</td>\n",
       "      <td>1.000000</td>\n",
       "      <td>-0.830954</td>\n",
       "    </tr>\n",
       "    <tr>\n",
       "      <th>mpg</th>\n",
       "      <td>-0.774601</td>\n",
       "      <td>-0.803371</td>\n",
       "      <td>-0.772810</td>\n",
       "      <td>-0.830954</td>\n",
       "      <td>1.000000</td>\n",
       "    </tr>\n",
       "  </tbody>\n",
       "</table>\n",
       "</div>"
      ],
      "text/plain": [
       "              cylinders  displacement  horsepower    weight       mpg\n",
       "cylinders      1.000000      0.950722    0.841842  0.896017 -0.774601\n",
       "displacement   0.950722      1.000000    0.896336  0.932822 -0.803371\n",
       "horsepower     0.841842      0.896336    1.000000  0.863053 -0.772810\n",
       "weight         0.896017      0.932822    0.863053  1.000000 -0.830954\n",
       "mpg           -0.774601     -0.803371   -0.772810 -0.830954  1.000000"
      ]
     },
     "execution_count": 8,
     "metadata": {},
     "output_type": "execute_result"
    }
   ],
   "source": [
    "df.corr()"
   ]
  },
  {
   "cell_type": "code",
   "execution_count": 9,
   "id": "f616cee9",
   "metadata": {},
   "outputs": [
    {
     "data": {
      "text/plain": [
       "0      18\n",
       "1      15\n",
       "2      18\n",
       "3      16\n",
       "4      17\n",
       "       ..\n",
       "393    27\n",
       "394    44\n",
       "395    32\n",
       "396    28\n",
       "397    31\n",
       "Name: mpg, Length: 398, dtype: int64"
      ]
     },
     "execution_count": 9,
     "metadata": {},
     "output_type": "execute_result"
    }
   ],
   "source": [
    "y"
   ]
  },
  {
   "cell_type": "code",
   "execution_count": 10,
   "id": "8aed43ef",
   "metadata": {},
   "outputs": [
    {
     "data": {
      "text/html": [
       "<div>\n",
       "<style scoped>\n",
       "    .dataframe tbody tr th:only-of-type {\n",
       "        vertical-align: middle;\n",
       "    }\n",
       "\n",
       "    .dataframe tbody tr th {\n",
       "        vertical-align: top;\n",
       "    }\n",
       "\n",
       "    .dataframe thead th {\n",
       "        text-align: right;\n",
       "    }\n",
       "</style>\n",
       "<table border=\"1\" class=\"dataframe\">\n",
       "  <thead>\n",
       "    <tr style=\"text-align: right;\">\n",
       "      <th></th>\n",
       "      <th>cylinders</th>\n",
       "      <th>displacement</th>\n",
       "      <th>horsepower</th>\n",
       "      <th>weight</th>\n",
       "    </tr>\n",
       "  </thead>\n",
       "  <tbody>\n",
       "    <tr>\n",
       "      <th>0</th>\n",
       "      <td>8</td>\n",
       "      <td>307</td>\n",
       "      <td>130</td>\n",
       "      <td>3504</td>\n",
       "    </tr>\n",
       "    <tr>\n",
       "      <th>1</th>\n",
       "      <td>8</td>\n",
       "      <td>350</td>\n",
       "      <td>165</td>\n",
       "      <td>3693</td>\n",
       "    </tr>\n",
       "    <tr>\n",
       "      <th>2</th>\n",
       "      <td>8</td>\n",
       "      <td>318</td>\n",
       "      <td>150</td>\n",
       "      <td>3436</td>\n",
       "    </tr>\n",
       "    <tr>\n",
       "      <th>3</th>\n",
       "      <td>8</td>\n",
       "      <td>304</td>\n",
       "      <td>150</td>\n",
       "      <td>3433</td>\n",
       "    </tr>\n",
       "    <tr>\n",
       "      <th>4</th>\n",
       "      <td>8</td>\n",
       "      <td>302</td>\n",
       "      <td>140</td>\n",
       "      <td>3449</td>\n",
       "    </tr>\n",
       "    <tr>\n",
       "      <th>...</th>\n",
       "      <td>...</td>\n",
       "      <td>...</td>\n",
       "      <td>...</td>\n",
       "      <td>...</td>\n",
       "    </tr>\n",
       "    <tr>\n",
       "      <th>393</th>\n",
       "      <td>4</td>\n",
       "      <td>140</td>\n",
       "      <td>86</td>\n",
       "      <td>2790</td>\n",
       "    </tr>\n",
       "    <tr>\n",
       "      <th>394</th>\n",
       "      <td>4</td>\n",
       "      <td>97</td>\n",
       "      <td>52</td>\n",
       "      <td>2130</td>\n",
       "    </tr>\n",
       "    <tr>\n",
       "      <th>395</th>\n",
       "      <td>4</td>\n",
       "      <td>135</td>\n",
       "      <td>84</td>\n",
       "      <td>2295</td>\n",
       "    </tr>\n",
       "    <tr>\n",
       "      <th>396</th>\n",
       "      <td>4</td>\n",
       "      <td>120</td>\n",
       "      <td>79</td>\n",
       "      <td>2625</td>\n",
       "    </tr>\n",
       "    <tr>\n",
       "      <th>397</th>\n",
       "      <td>4</td>\n",
       "      <td>119</td>\n",
       "      <td>82</td>\n",
       "      <td>2720</td>\n",
       "    </tr>\n",
       "  </tbody>\n",
       "</table>\n",
       "<p>398 rows × 4 columns</p>\n",
       "</div>"
      ],
      "text/plain": [
       "     cylinders  displacement  horsepower  weight\n",
       "0            8           307         130    3504\n",
       "1            8           350         165    3693\n",
       "2            8           318         150    3436\n",
       "3            8           304         150    3433\n",
       "4            8           302         140    3449\n",
       "..         ...           ...         ...     ...\n",
       "393          4           140          86    2790\n",
       "394          4            97          52    2130\n",
       "395          4           135          84    2295\n",
       "396          4           120          79    2625\n",
       "397          4           119          82    2720\n",
       "\n",
       "[398 rows x 4 columns]"
      ]
     },
     "execution_count": 10,
     "metadata": {},
     "output_type": "execute_result"
    }
   ],
   "source": [
    "x"
   ]
  },
  {
   "cell_type": "code",
   "execution_count": 11,
   "id": "a37b564e",
   "metadata": {},
   "outputs": [],
   "source": [
    "from sklearn.model_selection import train_test_split\n",
    "# splitting the data\n",
    "x_train, x_test, y_train, y_test = train_test_split(x, y, test_size = 0.3, random_state = 101)"
   ]
  },
  {
   "cell_type": "code",
   "execution_count": 12,
   "id": "1f81a868",
   "metadata": {},
   "outputs": [
    {
     "data": {
      "text/plain": [
       "RandomForestRegressor(random_state=101)"
      ]
     },
     "execution_count": 12,
     "metadata": {},
     "output_type": "execute_result"
    }
   ],
   "source": [
    "from sklearn.ensemble import RandomForestRegressor\n",
    "randomforest=RandomForestRegressor(n_estimators=100,random_state=101)\n",
    "randomforest.fit(x_train,y_train)"
   ]
  },
  {
   "cell_type": "code",
   "execution_count": 14,
   "id": "c276c30c",
   "metadata": {},
   "outputs": [
    {
     "data": {
      "text/plain": [
       "array([25.52 , 19.81 , 37.32 , 12.36 , 13.63 , 24.72 , 27.97 , 24.57 ,\n",
       "       30.37 , 27.25 , 20.82 , 22.69 , 31.62 , 33.76 , 13.79 , 16.39 ,\n",
       "       20.05 , 18.12 , 24.12 , 25.96 , 13.18 , 19.05 , 32.61 , 16.63 ,\n",
       "       14.74 , 34.16 , 26.11 , 28.52 , 20.57 , 11.88 , 18.13 , 33.28 ,\n",
       "       25.49 , 27.43 , 20.8  , 14.55 , 30.35 , 31.35 , 16.21 , 24.05 ,\n",
       "       31.27 , 16.41 , 32.17 , 16.09 , 20.84 , 18.61 , 29.19 , 22.51 ,\n",
       "       15.45 , 32.05 , 22.97 , 19.52 , 19.09 , 26.58 , 18.38 , 23.63 ,\n",
       "       33.05 , 33.682, 17.31 , 33.85 , 24.96 , 34.28 , 35.297, 16.82 ,\n",
       "       18.36 , 19.82 , 33.8  , 32.274, 13.1  , 14.56 , 21.62 , 27.07 ,\n",
       "       22.2  , 24.62 , 15.38 , 13.09 , 26.97 , 14.03 , 23.41 , 18.04 ,\n",
       "       25.49 , 19.56 , 24.21 , 24.73 , 18.65 , 34.767, 32.23 , 20.35 ,\n",
       "       16.55 , 13.09 , 27.83 , 26.86 , 22.97 , 38.76 , 23.59 , 14.75 ,\n",
       "       13.42 , 12.12 , 20.96 , 13.81 , 33.27 , 17.08 , 33.23 , 36.021,\n",
       "       19.44 , 35.97 , 22.99 , 33.27 , 20.39 , 13.28 , 24.63 , 13.64 ,\n",
       "       31.564, 15.32 , 17.41 , 25.95 , 32.25 , 31.09 , 28.62 , 13.38 ])"
      ]
     },
     "execution_count": 14,
     "metadata": {},
     "output_type": "execute_result"
    }
   ],
   "source": [
    "y_prediction =  randomforest.predict(x_test)\n",
    "y_prediction"
   ]
  },
  {
   "cell_type": "code",
   "execution_count": 16,
   "id": "59f348d4",
   "metadata": {},
   "outputs": [
    {
     "name": "stdout",
     "output_type": "stream",
     "text": [
      "0.8053632050586288\n"
     ]
    }
   ],
   "source": [
    "from sklearn.metrics import mean_squared_error,r2_score\n",
    "forest_score=r2_score(y_test,y_prediction)\n",
    "print(forest_score)"
   ]
  },
  {
   "cell_type": "code",
   "execution_count": 17,
   "id": "41100eaa",
   "metadata": {},
   "outputs": [],
   "source": [
    "#cylinder displacement horsepower weight\n",
    "#8\t302.0\t140\t3449\n",
    "x_test=np.array([[8,302,140,3449]])\n",
    "#x_test\n",
    "y_prediction =  randomforest.predict(x_test)"
   ]
  },
  {
   "cell_type": "code",
   "execution_count": 18,
   "id": "19cfd9fd",
   "metadata": {},
   "outputs": [
    {
     "data": {
      "text/plain": [
       "array([18.38])"
      ]
     },
     "execution_count": 18,
     "metadata": {},
     "output_type": "execute_result"
    }
   ],
   "source": [
    "y_prediction"
   ]
  },
  {
   "cell_type": "code",
   "execution_count": null,
   "id": "769c4317",
   "metadata": {},
   "outputs": [],
   "source": []
  }
 ],
 "metadata": {
  "kernelspec": {
   "display_name": "Python 3",
   "language": "python",
   "name": "python3"
  },
  "language_info": {
   "codemirror_mode": {
    "name": "ipython",
    "version": 3
   },
   "file_extension": ".py",
   "mimetype": "text/x-python",
   "name": "python",
   "nbconvert_exporter": "python",
   "pygments_lexer": "ipython3",
   "version": "3.8.8"
  }
 },
 "nbformat": 4,
 "nbformat_minor": 5
}
