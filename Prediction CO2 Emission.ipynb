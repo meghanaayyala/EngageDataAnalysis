{
 "cells": [
  {
   "cell_type": "code",
   "execution_count": 57,
   "id": "da53db75",
   "metadata": {},
   "outputs": [],
   "source": [
    "import numpy as np \n",
    "import pandas as pd\n",
    "\n",
    "import seaborn as sns \n",
    "import matplotlib.pyplot as plt\n",
    "\n",
    "\n",
    "import warnings\n",
    "warnings.filterwarnings(\"ignore\")"
   ]
  },
  {
   "cell_type": "code",
   "execution_count": 58,
   "id": "05e2376c",
   "metadata": {},
   "outputs": [],
   "source": [
    "df=pd.read_csv('CO2 Emissions_Canada.csv')"
   ]
  },
  {
   "cell_type": "code",
   "execution_count": 59,
   "id": "cc59c2f2",
   "metadata": {},
   "outputs": [
    {
     "data": {
      "text/html": [
       "<div>\n",
       "<style scoped>\n",
       "    .dataframe tbody tr th:only-of-type {\n",
       "        vertical-align: middle;\n",
       "    }\n",
       "\n",
       "    .dataframe tbody tr th {\n",
       "        vertical-align: top;\n",
       "    }\n",
       "\n",
       "    .dataframe thead th {\n",
       "        text-align: right;\n",
       "    }\n",
       "</style>\n",
       "<table border=\"1\" class=\"dataframe\">\n",
       "  <thead>\n",
       "    <tr style=\"text-align: right;\">\n",
       "      <th></th>\n",
       "      <th>Make</th>\n",
       "      <th>Model</th>\n",
       "      <th>Vehicle Class</th>\n",
       "      <th>Engine Size(L)</th>\n",
       "      <th>Cylinders</th>\n",
       "      <th>Transmission</th>\n",
       "      <th>Fuel Type</th>\n",
       "      <th>Fuel Consumption City (L/100 km)</th>\n",
       "      <th>Fuel Consumption Hwy (L/100 km)</th>\n",
       "      <th>Fuel Consumption Comb (L/100 km)</th>\n",
       "      <th>Fuel Consumption Comb (mpg)</th>\n",
       "      <th>CO2 Emissions(g/km)</th>\n",
       "    </tr>\n",
       "  </thead>\n",
       "  <tbody>\n",
       "    <tr>\n",
       "      <th>0</th>\n",
       "      <td>ACURA</td>\n",
       "      <td>ILX</td>\n",
       "      <td>COMPACT</td>\n",
       "      <td>2.0</td>\n",
       "      <td>4</td>\n",
       "      <td>AS5</td>\n",
       "      <td>Z</td>\n",
       "      <td>9.9</td>\n",
       "      <td>6.7</td>\n",
       "      <td>8.5</td>\n",
       "      <td>33</td>\n",
       "      <td>196</td>\n",
       "    </tr>\n",
       "    <tr>\n",
       "      <th>1</th>\n",
       "      <td>ACURA</td>\n",
       "      <td>ILX</td>\n",
       "      <td>COMPACT</td>\n",
       "      <td>2.4</td>\n",
       "      <td>4</td>\n",
       "      <td>M6</td>\n",
       "      <td>Z</td>\n",
       "      <td>11.2</td>\n",
       "      <td>7.7</td>\n",
       "      <td>9.6</td>\n",
       "      <td>29</td>\n",
       "      <td>221</td>\n",
       "    </tr>\n",
       "    <tr>\n",
       "      <th>2</th>\n",
       "      <td>ACURA</td>\n",
       "      <td>ILX HYBRID</td>\n",
       "      <td>COMPACT</td>\n",
       "      <td>1.5</td>\n",
       "      <td>4</td>\n",
       "      <td>AV7</td>\n",
       "      <td>Z</td>\n",
       "      <td>6.0</td>\n",
       "      <td>5.8</td>\n",
       "      <td>5.9</td>\n",
       "      <td>48</td>\n",
       "      <td>136</td>\n",
       "    </tr>\n",
       "    <tr>\n",
       "      <th>3</th>\n",
       "      <td>ACURA</td>\n",
       "      <td>MDX 4WD</td>\n",
       "      <td>SUV - SMALL</td>\n",
       "      <td>3.5</td>\n",
       "      <td>6</td>\n",
       "      <td>AS6</td>\n",
       "      <td>Z</td>\n",
       "      <td>12.7</td>\n",
       "      <td>9.1</td>\n",
       "      <td>11.1</td>\n",
       "      <td>25</td>\n",
       "      <td>255</td>\n",
       "    </tr>\n",
       "    <tr>\n",
       "      <th>4</th>\n",
       "      <td>ACURA</td>\n",
       "      <td>RDX AWD</td>\n",
       "      <td>SUV - SMALL</td>\n",
       "      <td>3.5</td>\n",
       "      <td>6</td>\n",
       "      <td>AS6</td>\n",
       "      <td>Z</td>\n",
       "      <td>12.1</td>\n",
       "      <td>8.7</td>\n",
       "      <td>10.6</td>\n",
       "      <td>27</td>\n",
       "      <td>244</td>\n",
       "    </tr>\n",
       "  </tbody>\n",
       "</table>\n",
       "</div>"
      ],
      "text/plain": [
       "    Make       Model Vehicle Class  Engine Size(L)  Cylinders Transmission  \\\n",
       "0  ACURA         ILX       COMPACT             2.0          4          AS5   \n",
       "1  ACURA         ILX       COMPACT             2.4          4           M6   \n",
       "2  ACURA  ILX HYBRID       COMPACT             1.5          4          AV7   \n",
       "3  ACURA     MDX 4WD   SUV - SMALL             3.5          6          AS6   \n",
       "4  ACURA     RDX AWD   SUV - SMALL             3.5          6          AS6   \n",
       "\n",
       "  Fuel Type  Fuel Consumption City (L/100 km)  \\\n",
       "0         Z                               9.9   \n",
       "1         Z                              11.2   \n",
       "2         Z                               6.0   \n",
       "3         Z                              12.7   \n",
       "4         Z                              12.1   \n",
       "\n",
       "   Fuel Consumption Hwy (L/100 km)  Fuel Consumption Comb (L/100 km)  \\\n",
       "0                              6.7                               8.5   \n",
       "1                              7.7                               9.6   \n",
       "2                              5.8                               5.9   \n",
       "3                              9.1                              11.1   \n",
       "4                              8.7                              10.6   \n",
       "\n",
       "   Fuel Consumption Comb (mpg)  CO2 Emissions(g/km)  \n",
       "0                           33                  196  \n",
       "1                           29                  221  \n",
       "2                           48                  136  \n",
       "3                           25                  255  \n",
       "4                           27                  244  "
      ]
     },
     "execution_count": 59,
     "metadata": {},
     "output_type": "execute_result"
    }
   ],
   "source": [
    "df.head()"
   ]
  },
  {
   "cell_type": "code",
   "execution_count": 60,
   "id": "e1b88a33",
   "metadata": {},
   "outputs": [
    {
     "data": {
      "text/plain": [
       "(7385, 12)"
      ]
     },
     "execution_count": 60,
     "metadata": {},
     "output_type": "execute_result"
    }
   ],
   "source": [
    "df.shape"
   ]
  },
  {
   "cell_type": "code",
   "execution_count": 61,
   "id": "51a2f4d0",
   "metadata": {},
   "outputs": [
    {
     "data": {
      "text/plain": [
       "Make                                0\n",
       "Model                               0\n",
       "Vehicle Class                       0\n",
       "Engine Size(L)                      0\n",
       "Cylinders                           0\n",
       "Transmission                        0\n",
       "Fuel Type                           0\n",
       "Fuel Consumption City (L/100 km)    0\n",
       "Fuel Consumption Hwy (L/100 km)     0\n",
       "Fuel Consumption Comb (L/100 km)    0\n",
       "Fuel Consumption Comb (mpg)         0\n",
       "CO2 Emissions(g/km)                 0\n",
       "dtype: int64"
      ]
     },
     "execution_count": 61,
     "metadata": {},
     "output_type": "execute_result"
    }
   ],
   "source": [
    "df.isnull().sum()"
   ]
  },
  {
   "cell_type": "code",
   "execution_count": 62,
   "id": "d45c8554",
   "metadata": {},
   "outputs": [
    {
     "data": {
      "text/plain": [
       "1103"
      ]
     },
     "execution_count": 62,
     "metadata": {},
     "output_type": "execute_result"
    }
   ],
   "source": [
    "df.duplicated().sum()"
   ]
  },
  {
   "cell_type": "code",
   "execution_count": 63,
   "id": "19f02ca0",
   "metadata": {},
   "outputs": [
    {
     "data": {
      "text/plain": [
       "(6282, 12)"
      ]
     },
     "execution_count": 63,
     "metadata": {},
     "output_type": "execute_result"
    }
   ],
   "source": [
    "df= df.drop_duplicates()\n",
    "df.shape"
   ]
  },
  {
   "cell_type": "code",
   "execution_count": 64,
   "id": "0e5425f7",
   "metadata": {},
   "outputs": [
    {
     "data": {
      "text/plain": [
       "0"
      ]
     },
     "execution_count": 64,
     "metadata": {},
     "output_type": "execute_result"
    }
   ],
   "source": [
    "df.duplicated().sum()"
   ]
  },
  {
   "cell_type": "code",
   "execution_count": 65,
   "id": "08e77cd2",
   "metadata": {},
   "outputs": [],
   "source": [
    "df.to_csv('co2emissions.csv')"
   ]
  },
  {
   "cell_type": "code",
   "execution_count": 9,
   "id": "e70686c8",
   "metadata": {},
   "outputs": [
    {
     "data": {
      "text/html": [
       "<div>\n",
       "<style scoped>\n",
       "    .dataframe tbody tr th:only-of-type {\n",
       "        vertical-align: middle;\n",
       "    }\n",
       "\n",
       "    .dataframe tbody tr th {\n",
       "        vertical-align: top;\n",
       "    }\n",
       "\n",
       "    .dataframe thead th {\n",
       "        text-align: right;\n",
       "    }\n",
       "</style>\n",
       "<table border=\"1\" class=\"dataframe\">\n",
       "  <thead>\n",
       "    <tr style=\"text-align: right;\">\n",
       "      <th></th>\n",
       "      <th>Engine Size(L)</th>\n",
       "      <th>Cylinders</th>\n",
       "      <th>Fuel Consumption City (L/100 km)</th>\n",
       "      <th>Fuel Consumption Hwy (L/100 km)</th>\n",
       "      <th>Fuel Consumption Comb (L/100 km)</th>\n",
       "      <th>Fuel Consumption Comb (mpg)</th>\n",
       "      <th>CO2 Emissions(g/km)</th>\n",
       "    </tr>\n",
       "  </thead>\n",
       "  <tbody>\n",
       "    <tr>\n",
       "      <th>Engine Size(L)</th>\n",
       "      <td>1.000000</td>\n",
       "      <td>0.928843</td>\n",
       "      <td>0.834228</td>\n",
       "      <td>0.766817</td>\n",
       "      <td>0.820146</td>\n",
       "      <td>-0.762955</td>\n",
       "      <td>0.854802</td>\n",
       "    </tr>\n",
       "    <tr>\n",
       "      <th>Cylinders</th>\n",
       "      <td>0.928843</td>\n",
       "      <td>1.000000</td>\n",
       "      <td>0.801277</td>\n",
       "      <td>0.717647</td>\n",
       "      <td>0.781099</td>\n",
       "      <td>-0.723731</td>\n",
       "      <td>0.834687</td>\n",
       "    </tr>\n",
       "    <tr>\n",
       "      <th>Fuel Consumption City (L/100 km)</th>\n",
       "      <td>0.834228</td>\n",
       "      <td>0.801277</td>\n",
       "      <td>1.000000</td>\n",
       "      <td>0.950811</td>\n",
       "      <td>0.994052</td>\n",
       "      <td>-0.927640</td>\n",
       "      <td>0.918756</td>\n",
       "    </tr>\n",
       "    <tr>\n",
       "      <th>Fuel Consumption Hwy (L/100 km)</th>\n",
       "      <td>0.766817</td>\n",
       "      <td>0.717647</td>\n",
       "      <td>0.950811</td>\n",
       "      <td>1.000000</td>\n",
       "      <td>0.978607</td>\n",
       "      <td>-0.891892</td>\n",
       "      <td>0.883424</td>\n",
       "    </tr>\n",
       "    <tr>\n",
       "      <th>Fuel Consumption Comb (L/100 km)</th>\n",
       "      <td>0.820146</td>\n",
       "      <td>0.781099</td>\n",
       "      <td>0.994052</td>\n",
       "      <td>0.978607</td>\n",
       "      <td>1.000000</td>\n",
       "      <td>-0.925801</td>\n",
       "      <td>0.916840</td>\n",
       "    </tr>\n",
       "    <tr>\n",
       "      <th>Fuel Consumption Comb (mpg)</th>\n",
       "      <td>-0.762955</td>\n",
       "      <td>-0.723731</td>\n",
       "      <td>-0.927640</td>\n",
       "      <td>-0.891892</td>\n",
       "      <td>-0.925801</td>\n",
       "      <td>1.000000</td>\n",
       "      <td>-0.906783</td>\n",
       "    </tr>\n",
       "    <tr>\n",
       "      <th>CO2 Emissions(g/km)</th>\n",
       "      <td>0.854802</td>\n",
       "      <td>0.834687</td>\n",
       "      <td>0.918756</td>\n",
       "      <td>0.883424</td>\n",
       "      <td>0.916840</td>\n",
       "      <td>-0.906783</td>\n",
       "      <td>1.000000</td>\n",
       "    </tr>\n",
       "  </tbody>\n",
       "</table>\n",
       "</div>"
      ],
      "text/plain": [
       "                                  Engine Size(L)  Cylinders  \\\n",
       "Engine Size(L)                          1.000000   0.928843   \n",
       "Cylinders                               0.928843   1.000000   \n",
       "Fuel Consumption City (L/100 km)        0.834228   0.801277   \n",
       "Fuel Consumption Hwy (L/100 km)         0.766817   0.717647   \n",
       "Fuel Consumption Comb (L/100 km)        0.820146   0.781099   \n",
       "Fuel Consumption Comb (mpg)            -0.762955  -0.723731   \n",
       "CO2 Emissions(g/km)                     0.854802   0.834687   \n",
       "\n",
       "                                  Fuel Consumption City (L/100 km)  \\\n",
       "Engine Size(L)                                            0.834228   \n",
       "Cylinders                                                 0.801277   \n",
       "Fuel Consumption City (L/100 km)                          1.000000   \n",
       "Fuel Consumption Hwy (L/100 km)                           0.950811   \n",
       "Fuel Consumption Comb (L/100 km)                          0.994052   \n",
       "Fuel Consumption Comb (mpg)                              -0.927640   \n",
       "CO2 Emissions(g/km)                                       0.918756   \n",
       "\n",
       "                                  Fuel Consumption Hwy (L/100 km)  \\\n",
       "Engine Size(L)                                           0.766817   \n",
       "Cylinders                                                0.717647   \n",
       "Fuel Consumption City (L/100 km)                         0.950811   \n",
       "Fuel Consumption Hwy (L/100 km)                          1.000000   \n",
       "Fuel Consumption Comb (L/100 km)                         0.978607   \n",
       "Fuel Consumption Comb (mpg)                             -0.891892   \n",
       "CO2 Emissions(g/km)                                      0.883424   \n",
       "\n",
       "                                  Fuel Consumption Comb (L/100 km)  \\\n",
       "Engine Size(L)                                            0.820146   \n",
       "Cylinders                                                 0.781099   \n",
       "Fuel Consumption City (L/100 km)                          0.994052   \n",
       "Fuel Consumption Hwy (L/100 km)                           0.978607   \n",
       "Fuel Consumption Comb (L/100 km)                          1.000000   \n",
       "Fuel Consumption Comb (mpg)                              -0.925801   \n",
       "CO2 Emissions(g/km)                                       0.916840   \n",
       "\n",
       "                                  Fuel Consumption Comb (mpg)  \\\n",
       "Engine Size(L)                                      -0.762955   \n",
       "Cylinders                                           -0.723731   \n",
       "Fuel Consumption City (L/100 km)                    -0.927640   \n",
       "Fuel Consumption Hwy (L/100 km)                     -0.891892   \n",
       "Fuel Consumption Comb (L/100 km)                    -0.925801   \n",
       "Fuel Consumption Comb (mpg)                          1.000000   \n",
       "CO2 Emissions(g/km)                                 -0.906783   \n",
       "\n",
       "                                  CO2 Emissions(g/km)  \n",
       "Engine Size(L)                               0.854802  \n",
       "Cylinders                                    0.834687  \n",
       "Fuel Consumption City (L/100 km)             0.918756  \n",
       "Fuel Consumption Hwy (L/100 km)              0.883424  \n",
       "Fuel Consumption Comb (L/100 km)             0.916840  \n",
       "Fuel Consumption Comb (mpg)                 -0.906783  \n",
       "CO2 Emissions(g/km)                          1.000000  "
      ]
     },
     "execution_count": 9,
     "metadata": {},
     "output_type": "execute_result"
    }
   ],
   "source": [
    "df.corr()"
   ]
  },
  {
   "cell_type": "code",
   "execution_count": 10,
   "id": "8dee076b",
   "metadata": {},
   "outputs": [
    {
     "data": {
      "text/html": [
       "<div>\n",
       "<style scoped>\n",
       "    .dataframe tbody tr th:only-of-type {\n",
       "        vertical-align: middle;\n",
       "    }\n",
       "\n",
       "    .dataframe tbody tr th {\n",
       "        vertical-align: top;\n",
       "    }\n",
       "\n",
       "    .dataframe thead th {\n",
       "        text-align: right;\n",
       "    }\n",
       "</style>\n",
       "<table border=\"1\" class=\"dataframe\">\n",
       "  <thead>\n",
       "    <tr style=\"text-align: right;\">\n",
       "      <th></th>\n",
       "      <th>Engine Size(L)</th>\n",
       "      <th>Cylinders</th>\n",
       "      <th>Fuel Consumption Comb (L/100 km)</th>\n",
       "      <th>CO2 Emissions(g/km)</th>\n",
       "    </tr>\n",
       "  </thead>\n",
       "  <tbody>\n",
       "    <tr>\n",
       "      <th>0</th>\n",
       "      <td>2.0</td>\n",
       "      <td>4</td>\n",
       "      <td>8.5</td>\n",
       "      <td>196</td>\n",
       "    </tr>\n",
       "    <tr>\n",
       "      <th>1</th>\n",
       "      <td>2.4</td>\n",
       "      <td>4</td>\n",
       "      <td>9.6</td>\n",
       "      <td>221</td>\n",
       "    </tr>\n",
       "    <tr>\n",
       "      <th>2</th>\n",
       "      <td>1.5</td>\n",
       "      <td>4</td>\n",
       "      <td>5.9</td>\n",
       "      <td>136</td>\n",
       "    </tr>\n",
       "    <tr>\n",
       "      <th>3</th>\n",
       "      <td>3.5</td>\n",
       "      <td>6</td>\n",
       "      <td>11.1</td>\n",
       "      <td>255</td>\n",
       "    </tr>\n",
       "    <tr>\n",
       "      <th>4</th>\n",
       "      <td>3.5</td>\n",
       "      <td>6</td>\n",
       "      <td>10.6</td>\n",
       "      <td>244</td>\n",
       "    </tr>\n",
       "  </tbody>\n",
       "</table>\n",
       "</div>"
      ],
      "text/plain": [
       "   Engine Size(L)  Cylinders  Fuel Consumption Comb (L/100 km)  \\\n",
       "0             2.0          4                               8.5   \n",
       "1             2.4          4                               9.6   \n",
       "2             1.5          4                               5.9   \n",
       "3             3.5          6                              11.1   \n",
       "4             3.5          6                              10.6   \n",
       "\n",
       "   CO2 Emissions(g/km)  \n",
       "0                  196  \n",
       "1                  221  \n",
       "2                  136  \n",
       "3                  255  \n",
       "4                  244  "
      ]
     },
     "execution_count": 10,
     "metadata": {},
     "output_type": "execute_result"
    }
   ],
   "source": [
    "df2 = df.drop(['Make','Model','Vehicle Class','Fuel Consumption City (L/100 km)', 'Transmission', 'Fuel Type', 'Fuel Consumption Hwy (L/100 km)','Fuel Consumption Comb (mpg)'],axis=1)\n",
    "df2.head()"
   ]
  },
  {
   "cell_type": "code",
   "execution_count": 44,
   "id": "d068a728",
   "metadata": {},
   "outputs": [],
   "source": [
    "X = df2.drop(['CO2 Emissions(g/km)'], axis= 1)\n",
    "y = df2[\"CO2 Emissions(g/km)\"]"
   ]
  },
  {
   "cell_type": "code",
   "execution_count": null,
   "id": "14cddb1f",
   "metadata": {},
   "outputs": [],
   "source": []
  },
  {
   "cell_type": "code",
   "execution_count": null,
   "id": "10b8ba67",
   "metadata": {},
   "outputs": [],
   "source": []
  },
  {
   "cell_type": "code",
   "execution_count": null,
   "id": "f11ac1c4",
   "metadata": {},
   "outputs": [],
   "source": []
  },
  {
   "cell_type": "code",
   "execution_count": null,
   "id": "afa19d84",
   "metadata": {},
   "outputs": [],
   "source": []
  },
  {
   "cell_type": "code",
   "execution_count": null,
   "id": "8bcefe28",
   "metadata": {},
   "outputs": [],
   "source": []
  },
  {
   "cell_type": "code",
   "execution_count": null,
   "id": "73040e07",
   "metadata": {},
   "outputs": [],
   "source": []
  },
  {
   "cell_type": "code",
   "execution_count": 20,
   "id": "2d05781b",
   "metadata": {},
   "outputs": [],
   "source": [
    "#X_train=X\n",
    "#y_train=y"
   ]
  },
  {
   "cell_type": "code",
   "execution_count": 45,
   "id": "323751a2",
   "metadata": {},
   "outputs": [
    {
     "data": {
      "text/plain": [
       "RandomForestRegressor(random_state=42)"
      ]
     },
     "execution_count": 45,
     "metadata": {},
     "output_type": "execute_result"
    }
   ],
   "source": [
    "from sklearn.model_selection import train_test_split, cross_val_score, cross_val_predict\n",
    "X_train, X_test, y_train, y_test = train_test_split(X, y, test_size=0.25, random_state=42)\n",
    "\n",
    "from sklearn.ensemble import RandomForestRegressor\n",
    "rf = RandomForestRegressor(random_state = 42)\n",
    "rf.fit(X_train, y_train)"
   ]
  },
  {
   "cell_type": "code",
   "execution_count": 24,
   "id": "e590ac82",
   "metadata": {},
   "outputs": [
    {
     "data": {
      "text/html": [
       "<div>\n",
       "<style scoped>\n",
       "    .dataframe tbody tr th:only-of-type {\n",
       "        vertical-align: middle;\n",
       "    }\n",
       "\n",
       "    .dataframe tbody tr th {\n",
       "        vertical-align: top;\n",
       "    }\n",
       "\n",
       "    .dataframe thead th {\n",
       "        text-align: right;\n",
       "    }\n",
       "</style>\n",
       "<table border=\"1\" class=\"dataframe\">\n",
       "  <thead>\n",
       "    <tr style=\"text-align: right;\">\n",
       "      <th></th>\n",
       "      <th>Engine Size(L)</th>\n",
       "      <th>Cylinders</th>\n",
       "      <th>Fuel Consumption Comb (L/100 km)</th>\n",
       "    </tr>\n",
       "  </thead>\n",
       "  <tbody>\n",
       "    <tr>\n",
       "      <th>0</th>\n",
       "      <td>2.0</td>\n",
       "      <td>4</td>\n",
       "      <td>8.5</td>\n",
       "    </tr>\n",
       "  </tbody>\n",
       "</table>\n",
       "</div>"
      ],
      "text/plain": [
       "   Engine Size(L)  Cylinders  Fuel Consumption Comb (L/100 km)\n",
       "0             2.0          4                               8.5"
      ]
     },
     "execution_count": 24,
     "metadata": {},
     "output_type": "execute_result"
    }
   ],
   "source": [
    "X_train[:1]"
   ]
  },
  {
   "cell_type": "code",
   "execution_count": 27,
   "id": "0d263710",
   "metadata": {},
   "outputs": [],
   "source": [
    "#3.5\t6\t11.1\t255\n",
    "x_test=np.array([[3.5,6,11]])"
   ]
  },
  {
   "cell_type": "code",
   "execution_count": 46,
   "id": "7e75ccd1",
   "metadata": {},
   "outputs": [],
   "source": [
    "y_prediction=rf.predict(X_test)"
   ]
  },
  {
   "cell_type": "code",
   "execution_count": 47,
   "id": "64a40efe",
   "metadata": {},
   "outputs": [
    {
     "data": {
      "text/plain": [
       "array([287.370415  , 246.72101626, 298.78794092, ..., 283.005     ,\n",
       "       263.81312118, 263.89677778])"
      ]
     },
     "execution_count": 47,
     "metadata": {},
     "output_type": "execute_result"
    }
   ],
   "source": [
    "y_prediction"
   ]
  },
  {
   "cell_type": "code",
   "execution_count": 48,
   "id": "772a033e",
   "metadata": {},
   "outputs": [
    {
     "name": "stdout",
     "output_type": "stream",
     "text": [
      "0.9716591590111995\n"
     ]
    }
   ],
   "source": [
    "from sklearn.metrics import r2_score\n",
    "forest_score=r2_score(y_test,y_prediction)\n",
    "print(forest_score)"
   ]
  },
  {
   "cell_type": "code",
   "execution_count": 52,
   "id": "aca90ac8",
   "metadata": {},
   "outputs": [],
   "source": [
    "### Giving Inputs\n",
    "# 244\n",
    "x_test=np.array([[3.5,6,11]])"
   ]
  },
  {
   "cell_type": "code",
   "execution_count": 53,
   "id": "0d47f8ac",
   "metadata": {},
   "outputs": [],
   "source": [
    "y_prediction=rf.predict(x_test)"
   ]
  },
  {
   "cell_type": "code",
   "execution_count": 54,
   "id": "85998e5e",
   "metadata": {},
   "outputs": [
    {
     "data": {
      "text/plain": [
       "array([256.53353077])"
      ]
     },
     "execution_count": 54,
     "metadata": {},
     "output_type": "execute_result"
    }
   ],
   "source": [
    "y_prediction"
   ]
  },
  {
   "cell_type": "code",
   "execution_count": 55,
   "id": "4dca852f",
   "metadata": {},
   "outputs": [],
   "source": [
    "#1.5\t4\t5.9\t\n",
    "#136\n",
    "x_test=([[1.5,4,5.9]])"
   ]
  },
  {
   "cell_type": "code",
   "execution_count": 56,
   "id": "5cd298a0",
   "metadata": {},
   "outputs": [
    {
     "data": {
      "text/plain": [
       "array([136.6827619])"
      ]
     },
     "execution_count": 56,
     "metadata": {},
     "output_type": "execute_result"
    }
   ],
   "source": [
    "y_prediction=rf.predict(x_test)\n",
    "y_prediction"
   ]
  },
  {
   "cell_type": "code",
   "execution_count": null,
   "id": "913bf616",
   "metadata": {},
   "outputs": [],
   "source": []
  }
 ],
 "metadata": {
  "kernelspec": {
   "display_name": "Python 3",
   "language": "python",
   "name": "python3"
  },
  "language_info": {
   "codemirror_mode": {
    "name": "ipython",
    "version": 3
   },
   "file_extension": ".py",
   "mimetype": "text/x-python",
   "name": "python",
   "nbconvert_exporter": "python",
   "pygments_lexer": "ipython3",
   "version": "3.8.8"
  }
 },
 "nbformat": 4,
 "nbformat_minor": 5
}
